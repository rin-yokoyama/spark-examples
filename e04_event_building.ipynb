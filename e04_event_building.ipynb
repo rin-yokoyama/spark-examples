{
 "cells": [
  {
   "cell_type": "markdown",
   "id": "3b615ffe-f120-4374-a359-30196cf73219",
   "metadata": {},
   "source": [
    "# Event building\n",
    "これまでのデータは、1行に検出器1ヒットのデータが書かれていた。<br>\n",
    "検出器間の相関を見るには、タイムスタンプが一定時間以内のヒットを同一イベントとしてまとめる必要がある。<br>\n",
    "このノートでは、クローバー型Ge検出器を例としてイベントビルドとAdd back、γ-γの相関を作る。"
   ]
  },
  {
   "cell_type": "code",
   "execution_count": 1,
   "id": "cad5ef0e-c970-4956-8d47-8ed7edbc8ee7",
   "metadata": {},
   "outputs": [
    {
     "name": "stderr",
     "output_type": "stream",
     "text": [
      "WARNING: Using incubator modules: jdk.incubator.vector\n",
      "Using Spark's default log4j profile: org/apache/spark/log4j2-defaults.properties\n",
      "25/10/09 17:24:40 WARN Utils: Your hostname, TABLET-S9I8ER9S, resolves to a loopback address: 127.0.1.1; using 10.255.255.254 instead (on interface lo)\n",
      "25/10/09 17:24:40 WARN Utils: Set SPARK_LOCAL_IP if you need to bind to another address\n",
      "Using Spark's default log4j profile: org/apache/spark/log4j2-defaults.properties\n",
      "Setting default log level to \"WARN\".\n",
      "To adjust logging level use sc.setLogLevel(newLevel). For SparkR, use setLogLevel(newLevel).\n",
      "25/10/09 17:24:42 WARN NativeCodeLoader: Unable to load native-hadoop library for your platform... using builtin-java classes where applicable\n",
      "                                                                                "
     ]
    },
    {
     "name": "stdout",
     "output_type": "stream",
     "text": [
      "+---+-------------------+-------------+\n",
      "| ch|            adc_cal|           ts|\n",
      "+---+-------------------+-------------+\n",
      "|  4| 1173.5435834050113|7296321907778|\n",
      "|  2| 227.55610453923023|7296321978243|\n",
      "|  1| 448.58882035985226|7296321997358|\n",
      "|  0| 0.2826225528521701|7296322069363|\n",
      "|  4|  1333.927759363862|7296322214400|\n",
      "|  1| 191.52228016285895|7296322271040|\n",
      "|  4|  387.5998010516098|7296322391382|\n",
      "|  0|0.28619243752816936|7296322439661|\n",
      "|  7|  70.49284476238016|7296322447462|\n",
      "|  2| 1117.0257870446542|7296322574024|\n",
      "+---+-------------------+-------------+\n",
      "only showing top 10 rows\n"
     ]
    }
   ],
   "source": [
    "from pyspark.sql import SparkSession\n",
    "from pyspark.sql import functions as F\n",
    "\n",
    "spark = SparkSession.builder.getOrCreate()\n",
    "df = spark.read.parquet(\"./data/clover_caldata.parquet\").select(\"ch\",\"adc_cal\",\"ts\")\n",
    "\n",
    "df.show(10)"
   ]
  },
  {
   "cell_type": "markdown",
   "id": "8a2a795b-4bbb-4289-bd19-7231ceca2060",
   "metadata": {},
   "source": [
    "## 検出器idを付ける\n",
    "クローバー検出器は、一台4チャンネルの読み出しがある。<br>\n",
    "ch0-3がdet0, ch4-8がdet1となるように\"det\"列を定義する。<br>\n",
    "- floor(): 整数に切り捨てる関数"
   ]
  },
  {
   "cell_type": "code",
   "execution_count": 23,
   "id": "fce937d5-8c24-4c46-8a9b-a8a612b9ac47",
   "metadata": {},
   "outputs": [
    {
     "name": "stdout",
     "output_type": "stream",
     "text": [
      "+---+-------------------+-------------+---+\n",
      "| ch|            adc_cal|           ts|det|\n",
      "+---+-------------------+-------------+---+\n",
      "|  4| 1173.5435834050113|7296321907778|  1|\n",
      "|  2| 227.55610453923023|7296321978243|  0|\n",
      "|  1| 448.58882035985226|7296321997358|  0|\n",
      "|  0| 0.2826225528521701|7296322069363|  0|\n",
      "|  4|  1333.927759363862|7296322214400|  1|\n",
      "|  1| 191.52228016285895|7296322271040|  0|\n",
      "|  4|  387.5998010516098|7296322391382|  1|\n",
      "|  0|0.28619243752816936|7296322439661|  0|\n",
      "|  7|  70.49284476238016|7296322447462|  1|\n",
      "|  2| 1117.0257870446542|7296322574024|  0|\n",
      "+---+-------------------+-------------+---+\n",
      "only showing top 10 rows\n"
     ]
    }
   ],
   "source": [
    "df = df.withColumn(\"det\", F.expr(\"floor(ch/4)\"))\n",
    "df.show(10)"
   ]
  },
  {
   "cell_type": "markdown",
   "id": "3ebcdd2a-9888-4298-8316-be11e3bbe96f",
   "metadata": {},
   "source": [
    "## タイムスタンプが500ns以上離れているヒット毎にグループ番号を付ける\n",
    "### Window関数\n",
    "SparkSQLにはWindow関数といって、データフレーム上の設定した範囲(window)毎に集計を行う関数が用意されている。<br>\n",
    "avg、max、min、rank、lagなどがある。<br>\n",
    "partitionBy()でWindowの範囲、orderBy()で並び順を定義する。<br>\n",
    "例えば、\n",
    "```\n",
    "w = Window.partitionBy(\"A\")\n",
    "```\n",
    "のようにWindowを定義し、\n",
    "```\n",
    "avg(\"C\").over(w)\n",
    "```\n",
    "とすると、A毎のCの平均値を作ってくれる。\n",
    "\n",
    "ここでは、検出器毎にタイムスタンプ順に並び替えたwindowを定義したいので、\n",
    "```\n",
    "w = Window.partitionBy(\"det\").orderBy(\"ts\")\n",
    "```\n",
    "とする。\n",
    "\n",
    "次に、lag()関数を使って\"ts_prev\"という列を定義する。\n",
    "```\n",
    ".withColumn(\"ts_prev\", F.lag(\"ts\").over(w))\n",
    "```\n",
    "lag()は行を一つずらした列を返す関数なので、\"ts_prev\"は一つ前のヒットのタイムスタンプになる。<br>\n",
    "その後、前のヒットとの時間を現す、\"gap\"という列を定義する。\n",
    "```\n",
    ".withColumn(\"gap\", F.expr(\"CASE WHEN ts_prev IS NULL THEN 0 ELSE ts - ts_prev END\"))\n",
    "```\n",
    "lag()を使うと最初の行がNullになるので0に置き換えている。<br>\n",
    "sum()関数を使い、\"gap\"がTIME_WINDOW以上であれば1増やすという方法で\"goup_id\"を定義する。"
   ]
  },
  {
   "cell_type": "code",
   "execution_count": 25,
   "id": "40d172e7-219b-40ec-a081-7c8857a84211",
   "metadata": {},
   "outputs": [
    {
     "name": "stdout",
     "output_type": "stream",
     "text": [
      "+---+-------------------+-------------+---+-------------+------+--------+\n",
      "| ch|            adc_cal|           ts|det|      ts_prev|   gap|group_id|\n",
      "+---+-------------------+-------------+---+-------------+------+--------+\n",
      "|  2| 227.55610453923023|7296321978243|  0|         NULL|     0|       0|\n",
      "|  1| 448.58882035985226|7296321997358|  0|7296321978243| 19115|       1|\n",
      "|  0| 0.2826225528521701|7296322069363|  0|7296321997358| 72005|       2|\n",
      "|  1| 191.52228016285895|7296322271040|  0|7296322069363|201677|       3|\n",
      "|  0|0.28619243752816936|7296322439661|  0|7296322271040|168621|       4|\n",
      "|  2| 1117.0257870446542|7296322574024|  0|7296322439661|134363|       5|\n",
      "|  1|  1171.619417638148|7296322620796|  0|7296322574024| 46772|       6|\n",
      "|  3| 1174.6657429896075|7296322690194|  0|7296322620796| 69398|       7|\n",
      "|  1|  995.0230880585855|7296322760004|  0|7296322690194| 69810|       8|\n",
      "|  2| 367.50277631887957|7296323434986|  0|7296322760004|674982|       9|\n",
      "+---+-------------------+-------------+---+-------------+------+--------+\n",
      "only showing top 10 rows\n"
     ]
    }
   ],
   "source": [
    "from pyspark.sql import Window\n",
    "\n",
    "w = Window.partitionBy(\"det\").orderBy(\"ts\")\n",
    "\n",
    "TIME_WINDOW = 500\n",
    "df_group = (\n",
    "    df\n",
    "    .withColumn(\"ts_prev\", F.lag(\"ts\").over(w))\n",
    "    .withColumn(\"gap\", F.expr(\"CASE WHEN ts_prev IS NULL THEN 0 ELSE ts - ts_prev END\"))\n",
    "    .withColumn(\"group_id\", F.sum(F.expr(f\"CASE WHEN gap > {TIME_WINDOW} THEN 1 ELSE 0 END\")).over(w))\n",
    ")\n",
    "\n",
    "df_group.show(10)"
   ]
  },
  {
   "cell_type": "markdown",
   "id": "86530afd-deec-49d8-b9ef-105015fc2123",
   "metadata": {},
   "source": [
    "## 同じグループidのヒットをアレイにまとめる\n",
    "\n",
    "groupBy()とagg()関数のコンビネーションを使うと、指定したグルーピング毎に集計操作をした新しいデータフレームを作ることができる。<br>\n",
    "collect_list()関数はagg()内で使うとグルーピング内のデータをアレイ化してくれる。<br>\n",
    "ここでは、\"adc_cal\"と\"ts\"をアレイ化したデータフレームを作る。"
   ]
  },
  {
   "cell_type": "code",
   "execution_count": 26,
   "id": "d0920894-8aaf-4fe0-9fc9-3391a52faa5e",
   "metadata": {},
   "outputs": [
    {
     "name": "stdout",
     "output_type": "stream",
     "text": [
      "+---+--------+----------------------------------------+------------------------------+\n",
      "|det|group_id|adc_cal_array                           |ts_array                      |\n",
      "+---+--------+----------------------------------------+------------------------------+\n",
      "|0  |20      |[300.99639577901814, 1161.6342007725207]|[7296325482656, 7296325482660]|\n",
      "|0  |31      |[372.9416196775182, 626.6818969483448]  |[7296326636138, 7296326636147]|\n",
      "|0  |34      |[348.68973328363893, 416.26565305390943]|[7296327011641, 7296327011644]|\n",
      "|0  |36      |[49.817694446871975, 1017.4337930432904]|[7296327141309, 7296327141312]|\n",
      "|0  |41      |[670.7271855878508, 501.1249327516769]  |[7296327546088, 7296327546089]|\n",
      "|0  |44      |[302.3389997859994, 1159.192964759898]  |[7296328019831, 7296328019832]|\n",
      "|0  |50      |[332.96665976403386, 310.69506010820766]|[7296329654386, 7296329654389]|\n",
      "|0  |52      |[350.1744414601671, 57.525552577545284] |[7296330019705, 7296330019707]|\n",
      "|0  |62      |[242.77555185482646, 1089.6425393561146]|[7296332343036, 7296332343039]|\n",
      "|0  |75      |[182.7350186062556, 56.71128237570928]  |[7296334623595, 7296334623596]|\n",
      "+---+--------+----------------------------------------+------------------------------+\n",
      "only showing top 10 rows\n"
     ]
    },
    {
     "name": "stderr",
     "output_type": "stream",
     "text": [
      "                                                                                "
     ]
    }
   ],
   "source": [
    "df_array = (\n",
    "    df_group\n",
    "    .groupBy(\"det\",\"group_id\")\n",
    "    .agg(\n",
    "        F.collect_list(\"adc_cal\").alias(\"adc_cal_array\"),\n",
    "        F.collect_list(\"ts\").alias(\"ts_array\")\n",
    "    )\n",
    ")\n",
    "df_array.filter(F.size(\"adc_cal_array\")>1).show(10, truncate=False)"
   ]
  },
  {
   "cell_type": "markdown",
   "id": "e86e9195-b0fd-40cc-98fb-a88a50058926",
   "metadata": {},
   "source": [
    "ちなみにアレイ化されたことが分かりやすいように、filter()でアレイサイズが2以上の行だけshow()している。\n",
    "## Add back をする\n",
    "クローバー検出器では、同じ検出器内の4つのチャンネルのどれかで同時にヒットがあった場合、<br>\n",
    "一本のγ線がコンプトン散乱して複数チャンネルを鳴らしたと考えてエネルギーを足し合わせるAdd backという<br>\n",
    "操作をすることが多い。ここでは、アレイ内の\"adc_cal\"を足し合わせた\"ab_energy\"列と、<br>\n",
    "adc_calが大きかった方のタイムスタンプを取ってきた\"ab_timing\"列を定義する。\n",
    "\n",
    "- array_position(A, B): アレイAの中の要素Bのindexを返す。\n",
    "- array_max(): アレイの最大要素を返す。\n",
    "- aggreagate(A, B, C): 列Aがアレイの時、関数C(acc,x)を各要素に対して実行する。xは要素の値。accは前の要素に対するC()の戻り値。Bはaccの初期値。\n",
    "- element_at(A, B):アレイAのB番目の要素を返す。"
   ]
  },
  {
   "cell_type": "code",
   "execution_count": 32,
   "id": "7c2f12dd-f4f4-495b-8e69-5168ed507102",
   "metadata": {},
   "outputs": [
    {
     "name": "stdout",
     "output_type": "stream",
     "text": [
      "+---+--------+----------------------------------------+------------------------------+-------+------------------+------------------+\n",
      "|det|group_id|adc_cal_array                           |ts_array                      |max_idx|ab_energy         |ab_timing         |\n",
      "+---+--------+----------------------------------------+------------------------------+-------+------------------+------------------+\n",
      "|0  |20      |[300.99639577901814, 1161.6342007725207]|[7296325482656, 7296325482660]|2      |1462.630596551539 |1161.6342007725207|\n",
      "|0  |31      |[372.9416196775182, 626.6818969483448]  |[7296326636138, 7296326636147]|2      |999.623516625863  |626.6818969483448 |\n",
      "|0  |34      |[348.68973328363893, 416.26565305390943]|[7296327011641, 7296327011644]|2      |764.9553863375484 |416.26565305390943|\n",
      "|0  |36      |[49.817694446871975, 1017.4337930432904]|[7296327141309, 7296327141312]|2      |1067.2514874901624|1017.4337930432904|\n",
      "|0  |41      |[670.7271855878508, 501.1249327516769]  |[7296327546088, 7296327546089]|1      |1171.8521183395278|670.7271855878508 |\n",
      "+---+--------+----------------------------------------+------------------------------+-------+------------------+------------------+\n",
      "only showing top 5 rows\n",
      "+---+--------+---------------------+---------------+-------+-------------------+-------------------+\n",
      "|det|group_id|adc_cal_array        |ts_array       |max_idx|ab_energy          |ab_timing          |\n",
      "+---+--------+---------------------+---------------+-------+-------------------+-------------------+\n",
      "|0  |0       |[227.55610453923023] |[7296321978243]|1      |227.55610453923023 |227.55610453923023 |\n",
      "|0  |1       |[448.58882035985226] |[7296321997358]|1      |448.58882035985226 |448.58882035985226 |\n",
      "|0  |2       |[0.2826225528521701] |[7296322069363]|1      |0.2826225528521701 |0.2826225528521701 |\n",
      "|0  |3       |[191.52228016285895] |[7296322271040]|1      |191.52228016285895 |191.52228016285895 |\n",
      "|0  |4       |[0.28619243752816936]|[7296322439661]|1      |0.28619243752816936|0.28619243752816936|\n",
      "+---+--------+---------------------+---------------+-------+-------------------+-------------------+\n",
      "only showing top 5 rows\n"
     ]
    }
   ],
   "source": [
    "df_addBack = (\n",
    "    df_array\n",
    "    .withColumn(\"max_idx\", F.expr(\"array_position(adc_cal_array, array_max(adc_cal_array))\").cast(\"integer\"))\n",
    "    .withColumn(\"ab_energy\", F.expr(\"aggregate(adc_cal_array, 0D, (acc, x) -> acc + x)\"))\n",
    "    .withColumn(\"ab_timing\", F.expr(\"element_at(adc_cal_array, max_idx)\"))\n",
    ")\n",
    "    \n",
    "df_addBack.filter(F.size(\"adc_cal_array\")>1).show(5, truncate=False)\n",
    "df_addBack.show(5, truncate=False)"
   ]
  },
  {
   "cell_type": "code",
   "execution_count": 36,
   "id": "70f87944-2d00-4548-bf8b-0bb4cb6b90b5",
   "metadata": {},
   "outputs": [
    {
     "name": "stdout",
     "output_type": "stream",
     "text": [
      "Total entries: 462033, Underflow: 82, Inside: 457093, Overflow: 4858\n",
      "Total entries: 522132, Underflow: 303, Inside: 518413, Overflow: 3416\n"
     ]
    },
    {
     "data": {
      "image/png": "[encoded data removed]",
      "text/plain": [
       "<Figure size 640x480 with 1 Axes>"
      ]
     },
     "metadata": {},
     "output_type": "display_data"
    }
   ],
   "source": [
    "from hist.sparkHist1d import Hist1D\n",
    "from matplotlib import pyplot as plt\n",
    "\n",
    "Hist1D(df_addBack, \"ab_energy\", 1500, [0,1500], label=\"add back\")\n",
    "Hist1D(df, \"adc_cal\", 1500, [0,1500], label=\"singles\")\n",
    "plt.legend()\n",
    "plt.show()"
   ]
  },
  {
   "cell_type": "markdown",
   "id": "1c0a4671-cdbf-4f23-b7de-37af9486cd8b",
   "metadata": {},
   "source": [
    "Add backによってピークのカウントが増えているのが分かる。\n",
    "## γ-γ相関\n",
    "\n"
   ]
  }
 ],
 "metadata": {
  "kernelspec": {
   "display_name": "Python 3 (ipykernel)",
   "language": "python",
   "name": "python3"
  },
  "language_info": {
   "codemirror_mode": {
    "name": "ipython",
    "version": 3
   },
   "file_extension": ".py",
   "mimetype": "text/x-python",
   "name": "python",
   "nbconvert_exporter": "python",
   "pygments_lexer": "ipython3",
   "version": "3.12.11"
  }
 },
 "nbformat": 4,
 "nbformat_minor": 5
}
