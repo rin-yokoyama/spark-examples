{
 "cells": [
  {
   "cell_type": "markdown",
   "id": "d7ecddef-7b64-48b5-ae18-6c12e7c3c936",
   "metadata": {},
   "source": [
    "# UDF (User Defined Function)\n",
    "Spark SQL 関数を使えば多くの解析ができることが分かった。<br>\n",
    "自動的に最適化やGPUの使用などが可能となるため、極力これらを使用して解析を完結させたいが、<br>\n",
    "どうしても自前の関数をプログラムしたい場合、UDFを使うことになる。\n",
    "\n",
    "pysparkを使う場合、主にpyspark UDF、pandas UDF、scala UDFを使うことになるのでそれぞれ例とともに紹介する。\n",
    "## pyspark UDF\n",
    "- pyspark.sql.functions.udf(): python関数をユーザー関数として登録する。各行に対してpython関数が呼ばれる。\n",
    "\n",
    "spark SQLにないpythonの関数を手軽に使うことができる。\n",
    "以下はポアソン分布の例。"
   ]
  },
  {
   "cell_type": "code",
   "execution_count": 38,
   "id": "4a2d7388-5de1-44a7-8e97-87fc02e03a52",
   "metadata": {},
   "outputs": [
    {
     "name": "stdout",
     "output_type": "stream",
     "text": [
      "+-------------+\n",
      "|           ts|\n",
      "+-------------+\n",
      "|7296322069363|\n",
      "|7296322439661|\n",
      "|7296324338282|\n",
      "|7296325482656|\n",
      "|7296325659242|\n",
      "+-------------+\n",
      "only showing top 5 rows\n"
     ]
    }
   ],
   "source": [
    "from pyspark.sql import SparkSession\n",
    "from pyspark.sql import functions as F\n",
    "\n",
    "spark = SparkSession.builder.getOrCreate()\n",
    "\n",
    "df = spark.read.parquet(\"./data/clover_data.parquet\").filter(\"ch==0\").select(\"ts\")\n",
    "df.show(5)"
   ]
  },
  {
   "cell_type": "markdown",
   "id": "47719837-0189-40ec-8719-6c74a6ed19d5",
   "metadata": {},
   "source": [
    "このデータは検出器1チャンネル分のヒット時刻情報である。<br>"
   ]
  },
  {
   "cell_type": "code",
   "execution_count": 39,
   "id": "2a5bb92c-101b-47ed-b802-90ebbe36b5c8",
   "metadata": {},
   "outputs": [
    {
     "name": "stdout",
     "output_type": "stream",
     "text": [
      "3.720139207327362\n"
     ]
    }
   ],
   "source": [
    "TWINDOW = 2000000 # 20 ms\n",
    "count = df.count() # トータルイベント数\n",
    "t = df.select(F.max(\"ts\")).collect()[0][0]-df.select(F.min(\"ts\")).collect()[0][0] # データ収集時間 (ns)\n",
    "n = count/t*TWINDOW # 20ms当たりの平均イベント数\n",
    "print(n)"
   ]
  },
  {
   "cell_type": "markdown",
   "id": "d21a312e-bb28-4d9d-9b36-031070fc53d6",
   "metadata": {},
   "source": [
    "20 ms当たり3.7イベントのレートでデータが存在する。<br>\n",
    "実際のデータがポアソン分布に従っているか確認するため、ポアソン分布乱数を生成するUDFを定義する。<br>\n",
    "`def poisson():` で定義した関数に対して、F.udf(poisson, 戻り値の型)でUDFを定義できる。<br>\n",
    "このUDFはspark SQLで列として使うことができる。"
   ]
  },
  {
   "cell_type": "code",
   "execution_count": 49,
   "id": "2bd52678-095f-4afd-ae64-801bd3278931",
   "metadata": {},
   "outputs": [
    {
     "name": "stderr",
     "output_type": "stream",
     "text": [
      "25/10/10 16:22:46 WARN WindowExec: No Partition Defined for Window operation! Moving all data to a single partition, this can cause serious performance degradation.\n",
      "25/10/10 16:22:46 WARN WindowExec: No Partition Defined for Window operation! Moving all data to a single partition, this can cause serious performance degradation.\n",
      "25/10/10 16:22:46 WARN WindowExec: No Partition Defined for Window operation! Moving all data to a single partition, this can cause serious performance degradation.\n",
      "25/10/10 16:22:46 WARN WindowExec: No Partition Defined for Window operation! Moving all data to a single partition, this can cause serious performance degradation.\n",
      "25/10/10 16:22:46 WARN WindowExec: No Partition Defined for Window operation! Moving all data to a single partition, this can cause serious performance degradation.\n"
     ]
    },
    {
     "name": "stdout",
     "output_type": "stream",
     "text": [
      "+-------------+--------------+-------+\n",
      "|           ts|events_in_20ms|poisson|\n",
      "+-------------+--------------+-------+\n",
      "|7296322069363|             2|      8|\n",
      "|7296322439661|             2|      7|\n",
      "|7296324338282|             5|      1|\n",
      "|7296325482656|             7|      3|\n",
      "|7296325659242|             8|      3|\n",
      "|7296325848896|             7|      2|\n",
      "|7296326186842|             6|      9|\n",
      "|7296327141309|             6|      7|\n",
      "|7296327246553|             5|      4|\n",
      "|7296327385651|             5|      3|\n",
      "+-------------+--------------+-------+\n",
      "only showing top 10 rows\n"
     ]
    }
   ],
   "source": [
    "import numpy as np\n",
    "from pyspark.sql.types import IntegerType\n",
    "# python 関数の定義\n",
    "def poisson():\n",
    "    return np.random.poisson(n)\n",
    "\n",
    "# pyspark UDFの定義\n",
    "poisson_udf = F.udf(poisson, IntegerType())\n",
    "\n",
    "from pyspark.sql.window import Window\n",
    "w = Window.orderBy(\"ts\").rangeBetween(0,TWINDOW)\n",
    "df = df.withColumn(\"events_in_20ms\", F.count(\"ts\").over(w)) \\\n",
    "       .withColumn(\"poisson\", poisson_udf())\n",
    "df.show(10)"
   ]
  },
  {
   "cell_type": "markdown",
   "id": "fdfdbc61-b885-4dc2-9403-340d94ae0b50",
   "metadata": {},
   "source": [
    "しかし、実際のデータと乱数を両方プロットしてみると、分布が大きく異なることが分かる。"
   ]
  },
  {
   "cell_type": "code",
   "execution_count": 47,
   "id": "b781eaaa-b6c0-4b39-affd-07fdc49f84c1",
   "metadata": {},
   "outputs": [
    {
     "name": "stderr",
     "output_type": "stream",
     "text": [
      "25/10/10 15:43:56 WARN WindowExec: No Partition Defined for Window operation! Moving all data to a single partition, this can cause serious performance degradation.\n",
      "25/10/10 15:43:56 WARN WindowExec: No Partition Defined for Window operation! Moving all data to a single partition, this can cause serious performance degradation.\n",
      "25/10/10 15:43:56 WARN WindowExec: No Partition Defined for Window operation! Moving all data to a single partition, this can cause serious performance degradation.\n",
      "25/10/10 15:43:56 WARN WindowExec: No Partition Defined for Window operation! Moving all data to a single partition, this can cause serious performance degradation.\n"
     ]
    },
    {
     "name": "stdout",
     "output_type": "stream",
     "text": [
      "Total entries: 75254, Underflow: 0, Inside: 74278, Overflow: 976\n",
      "Total entries: 75254, Underflow: 0, Inside: 74855, Overflow: 399\n"
     ]
    },
    {
     "data": {
      "image/png": "[encoded data removed]",
      "text/plain": [
       "<Figure size 640x480 with 1 Axes>"
      ]
     },
     "metadata": {},
     "output_type": "display_data"
    }
   ],
   "source": [
    "from hist.sparkHist1d import Hist1D\n",
    "from matplotlib import pyplot as plt\n",
    "\n",
    "Hist1D(df, \"events_in_20ms\",10,[0,10],facecolor=\"none\",edgecolor=\"tab:blue\")\n",
    "Hist1D(df, \"poisson\",10,[0,10],facecolor=\"none\",edgecolor=\"tab:orange\")\n",
    "plt.yscale(\"log\")"
   ]
  },
  {
   "cell_type": "markdown",
   "id": "126e9b32-31b6-4095-a7ea-4e89826c7fd3",
   "metadata": {},
   "source": [
    "これは、検出器の立下り部分の信号にリンギングなどのゆらぎが発生することによって、<br>\n",
    "ランダムではないデータが含まれているという可能性がある。<br>\n",
    "そこで、Window定義を信号の直後ではなく、しばらく後にずらしてみる。"
   ]
  },
  {
   "cell_type": "code",
   "execution_count": 48,
   "id": "87c9a4cb-f884-4fda-b34f-d345fd40dddd",
   "metadata": {},
   "outputs": [
    {
     "name": "stderr",
     "output_type": "stream",
     "text": [
      "25/10/10 15:47:19 WARN WindowExec: No Partition Defined for Window operation! Moving all data to a single partition, this can cause serious performance degradation.\n",
      "25/10/10 15:47:19 WARN WindowExec: No Partition Defined for Window operation! Moving all data to a single partition, this can cause serious performance degradation.\n",
      "25/10/10 15:47:19 WARN WindowExec: No Partition Defined for Window operation! Moving all data to a single partition, this can cause serious performance degradation.\n",
      "25/10/10 15:47:19 WARN WindowExec: No Partition Defined for Window operation! Moving all data to a single partition, this can cause serious performance degradation.\n"
     ]
    },
    {
     "name": "stdout",
     "output_type": "stream",
     "text": [
      "Total entries: 75254, Underflow: 0, Inside: 74912, Overflow: 342\n",
      "Total entries: 75254, Underflow: 0, Inside: 74840, Overflow: 414\n"
     ]
    },
    {
     "data": {
      "image/png": "[encoded data removed]",
      "text/plain": [
       "<Figure size 640x480 with 1 Axes>"
      ]
     },
     "metadata": {},
     "output_type": "display_data"
    }
   ],
   "source": [
    "OFFSET = 100000000 # 100 ms\n",
    "w = Window.orderBy(\"ts\").rangeBetween(OFFSET,OFFSET+TWINDOW)\n",
    "df = df.withColumn(\"events_in_20ms\", F.count(\"ts\").over(w)) \\\n",
    "       .withColumn(\"poisson\", poisson_udf())\n",
    "\n",
    "Hist1D(df, \"events_in_20ms\",10,[0,10],facecolor=\"none\",edgecolor=\"tab:blue\")\n",
    "Hist1D(df, \"poisson\",10,[0,10],facecolor=\"none\",edgecolor=\"tab:orange\")\n",
    "plt.yscale(\"log\")"
   ]
  },
  {
   "cell_type": "markdown",
   "id": "9bf36ca9-294f-4b9d-abca-bf9cc2507bf2",
   "metadata": {},
   "source": [
    "充分離れた時間ウィンドウのイベント数はポアソン分布に従っていることが分かる。"
   ]
  }
 ],
 "metadata": {
  "kernelspec": {
   "display_name": "Python 3 (ipykernel)",
   "language": "python",
   "name": "python3"
  },
  "language_info": {
   "codemirror_mode": {
    "name": "ipython",
    "version": 3
   },
   "file_extension": ".py",
   "mimetype": "text/x-python",
   "name": "python",
   "nbconvert_exporter": "python",
   "pygments_lexer": "ipython3",
   "version": "3.12.11"
  }
 },
 "nbformat": 4,
 "nbformat_minor": 5
}
